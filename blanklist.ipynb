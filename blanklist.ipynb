{
 "cells": [
  {
   "cell_type": "markdown",
   "id": "1bd5c061",
   "metadata": {},
   "source": [
    "# Blanklist Algorithm\n",
    "\n",
    "When running the MITgcm in parallel, we partition the grid into tiles using the parameters `sNx` and `sNy` in `code/SIZE.h`. In doing so, some chunks in our partition will contain only land. We instruct the model to omit land tiles during computation using the `exch2` package. To do so, we provide a list of blank/land tiles in the input file `data.exch2`. This notebook demonstrates how to compute a `blanklist` given a global model's bathymetry `Depth` or land mask `hFacC/maskC`, and a partition."
   ]
  },
  {
   "cell_type": "code",
   "execution_count": 1,
   "id": "a8307533",
   "metadata": {},
   "outputs": [
    {
     "ename": "ModuleNotFoundError",
     "evalue": "No module named 'MITgcmutils'",
     "output_type": "error",
     "traceback": [
      "\u001b[0;31m---------------------------------------------------------------------------\u001b[0m",
      "\u001b[0;31mModuleNotFoundError\u001b[0m                       Traceback (most recent call last)",
      "Cell \u001b[0;32mIn[1], line 4\u001b[0m\n\u001b[1;32m      2\u001b[0m \u001b[38;5;28;01mimport\u001b[39;00m \u001b[38;5;21;01mmatplotlib\u001b[39;00m\u001b[38;5;21;01m.\u001b[39;00m\u001b[38;5;21;01mpyplot\u001b[39;00m \u001b[38;5;28;01mas\u001b[39;00m \u001b[38;5;21;01mplt\u001b[39;00m\n\u001b[1;32m      3\u001b[0m \u001b[38;5;28;01mimport\u001b[39;00m \u001b[38;5;21;01mecco_v4_py\u001b[39;00m \u001b[38;5;28;01mas\u001b[39;00m \u001b[38;5;21;01mecco\u001b[39;00m\n\u001b[0;32m----> 4\u001b[0m \u001b[38;5;28;01mfrom\u001b[39;00m \u001b[38;5;21;01mMITgcmutils\u001b[39;00m \u001b[38;5;28;01mimport\u001b[39;00m rdmds\n\u001b[1;32m      5\u001b[0m get_ipython()\u001b[38;5;241m.\u001b[39mrun_line_magic(\u001b[38;5;124m'\u001b[39m\u001b[38;5;124mload_ext\u001b[39m\u001b[38;5;124m'\u001b[39m, \u001b[38;5;124m'\u001b[39m\u001b[38;5;124mautoreload\u001b[39m\u001b[38;5;124m'\u001b[39m)\n\u001b[1;32m      6\u001b[0m get_ipython()\u001b[38;5;241m.\u001b[39mrun_line_magic(\u001b[38;5;124m'\u001b[39m\u001b[38;5;124mautoreload\u001b[39m\u001b[38;5;124m'\u001b[39m, \u001b[38;5;124m'\u001b[39m\u001b[38;5;124m2\u001b[39m\u001b[38;5;124m'\u001b[39m)\n",
      "\u001b[0;31mModuleNotFoundError\u001b[0m: No module named 'MITgcmutils'"
     ]
    }
   ],
   "source": [
    "import numpy as np\n",
    "import matplotlib.pyplot as plt\n",
    "import ecco_v4_py as ecco\n",
    "from MITgcmutils import rdmds\n",
    "%load_ext autoreload\n",
    "%autoreload 2"
   ]
  },
  {
   "cell_type": "markdown",
   "id": "f32f2762",
   "metadata": {},
   "source": [
    "# Pseudocode\n",
    "\n",
    "```\n",
    "--------------------------------------------------\n",
    "FOR face_index = 1..5\n",
    "    landmask_face = landmask_faces[face_index]\n",
    "    FOR i = 1..sNx\n",
    "        FOR j = 1..sNy\n",
    "            tile = landmask_face[I,J]\n",
    "            IF sum(tile)==0:\n",
    "                append tile index to blank list\n",
    "--------------------------------------------------     \n",
    "```\n",
    "\n",
    "> **_NOTE:_**  The function in this notebook is suited specfially for the 5-face global llc grid \n"
   ]
  },
  {
   "cell_type": "code",
   "execution_count": null,
   "id": "188ab6bb",
   "metadata": {},
   "outputs": [],
   "source": [
    "def chunker(seq, size):\n",
    "    return (seq[pos:pos + size] for pos in range(0, len(seq), size))\n",
    "\n",
    "def get_blanklist(landmask_faces, sNx, sNy, plot=False):\n",
    "    \"\"\"\n",
    "    Extracts and returns the indices of blank tiles from a set of landmask faces.\n",
    "\n",
    "    Parameters:\n",
    "    - landmask_faces (dict): A dictionary containing landmask arrays for each face.\n",
    "    - sNx (int): Size of tiles along the x-axis.\n",
    "    - sNy (int): Size of tiles along the y-axis.\n",
    "    - plot (bool, optional): If True, generates a visual representation of the blank tiles\n",
    "    \n",
    "    Returns:\n",
    "    - blanklist (list): List of indices corresponding to blank tiles.\n",
    "\n",
    "    Note:\n",
    "    - The function also supports an optional plotting feature to visualize the tiles and their indices.\n",
    "\n",
    "    Example:\n",
    "    landmask_faces = {1: np.array(...), 2: np.array(...), ...}\n",
    "    sNx = 32\n",
    "    sNy = 32\n",
    "    blanklist = get_blanklist(landmask_faces, sNx, sNy, plot=True)\n",
    "    ```\n",
    "    \"\"\"\n",
    "    \n",
    "    # initialize plot\n",
    "    if plot:\n",
    "        text_kwargs = dict(ha='center', va='center', fontsize=10, color='r')\n",
    "        fig, axes = plt.subplots(5,1)\n",
    "    \n",
    "    # initialize vars\n",
    "    blanklist=[]\n",
    "    tile_count = 0\n",
    "    \n",
    "    # loop through 5 faces. Note face_index = 1..5\n",
    "    for face_index, landmask_face in landmask_faces.items():\n",
    "        \n",
    "        # create nan mask for plotting\n",
    "        blanksmask_face = np.nan * np.ones_like(landmask_face)\n",
    "        nx,ny = landmask_face.shape\n",
    "        \n",
    "        # start tile_count from total of prev face\n",
    "        tile_count0 = tile_count\n",
    "        \n",
    "        # chunk face into tiles of size (sNx, sNy)\n",
    "        for i, ii in enumerate(chunker(np.arange(nx),sNx)):\n",
    "            for j, jj in enumerate(chunker(np.arange(ny),sNy)):\n",
    "                    tile_count += 1                \n",
    "                    # get this tile, check if all land\n",
    "                    tile=landmask_face[np.ix_(ii, jj)]\n",
    "                    isblank = tile.sum() == 0\n",
    "                    \n",
    "                    if isblank:\n",
    "                        tile_index = tile_count0 + j+i*int(ny/sNy)+1\n",
    "                        blanklist.append(tile_index)\n",
    "                        blanksmask_face[np.ix_(ii, jj)]=0\n",
    "\n",
    "                    # plot tile number text\n",
    "                    if plot:\n",
    "                        ax = axes.ravel()[face_index-1]\n",
    "                        ax.text(jj[int(sNx/2)], ii[int(sNy/2)], '{}'.format(tile_count), **text_kwargs)\n",
    "        \n",
    "        # plot landmask, blanks\n",
    "        if plot:\n",
    "            aa=ax.contourf(landmask_face, cmap='Greys_r')\n",
    "            aa=ax.pcolor(blanksmask_face, cmap='jet')\n",
    "            \n",
    "            # set ticks\n",
    "            major_ticks_x = np.arange(0, ny, sNy)\n",
    "            minor_ticks_x = np.arange(0, ny) \n",
    "            major_ticks_y = np.arange(0, nx, sNx)\n",
    "            minor_ticks_y = np.arange(0, nx) \n",
    "\n",
    "            ax.set_xticks(major_ticks_x )\n",
    "            ax.set_xticks(minor_ticks_x , minor=True)\n",
    "            ax.set_yticks(major_ticks_y)\n",
    "            ax.set_yticks(minor_ticks_y, minor=True)\n",
    "            ax.xaxis.set_ticklabels([])\n",
    "            ax.yaxis.set_ticklabels([])\n",
    "            \n",
    "            ax.grid(which='minor', alpha=0.2)\n",
    "            ax.grid(which='major', alpha=1)\n",
    "\n",
    "            ax.set_title(\"Face {}\".format(face_index))\n",
    "            fig.set_size_inches(10,20)\n",
    "    return blanklist"
   ]
  },
  {
   "cell_type": "markdown",
   "id": "958f9369",
   "metadata": {},
   "source": [
    "# Example 1: Global `llc90`"
   ]
  },
  {
   "cell_type": "code",
   "execution_count": null,
   "id": "e24296ea",
   "metadata": {},
   "outputs": [],
   "source": [
    "# load land mask\n",
    "# NOTE: using maskC/hFacC vs Depth/Bathymetry will give different results\n",
    "grid_dir='/scratch/atnguyen/llc90/global_oce_llc90/GRID/'\n",
    "hfc90 = rdmds(grid_dir+'hFacC', lev=0)\n",
    "hfc90[hfc90!=0]=np.nan\n",
    "# Convert to dict of 5 faces, sizes [(270,90), (270,90), (90,90), (90,270), (90,270)]\n",
    "hfc90_faces = ecco.llc_compact_to_faces(hfc90, less_output=True)\n",
    "\n",
    "# init dimensions\n",
    "sNx=30\n",
    "sNy=30\n",
    "\n",
    "blanklist = get_blanklist(hfc90_faces, sNx, sNy, plot=True)"
   ]
  },
  {
   "cell_type": "markdown",
   "id": "ff6064f8",
   "metadata": {},
   "source": [
    "At this point, the user can copy the blanklist into `data.exch2`:"
   ]
  },
  {
   "cell_type": "code",
   "execution_count": null,
   "id": "764273b6",
   "metadata": {},
   "outputs": [],
   "source": [
    "print('  blankList = ', end='')\n",
    "print(', '.join([str(x) for x in blanklist]), end='')\n",
    "print(',')"
   ]
  },
  {
   "cell_type": "markdown",
   "id": "90b04c92",
   "metadata": {},
   "source": [
    "# Example 2:  Global `llc1080`"
   ]
  },
  {
   "cell_type": "code",
   "execution_count": null,
   "id": "018168cb",
   "metadata": {},
   "outputs": [],
   "source": [
    "grid_dir='/scratch/atnguyen/llc1080/global/run_template/'"
   ]
  },
  {
   "cell_type": "code",
   "execution_count": null,
   "id": "c69805ea",
   "metadata": {},
   "outputs": [],
   "source": [
    "# load depth1080 in compact form (13*nx, nx), then convert to 5-face dict\n",
    "nx=1080\n",
    "depth1080 = np.fromfile(grid_dir+'bathy1080_g5_r4_v2a.bin', dtype=np.dtype('>f')).reshape(13*nx,nx)\n",
    "\n",
    "# nan-out ocean\n",
    "depth1080[depth1080!=0]==np.nan\n",
    "depth1080 = ecco.llc_compact_to_faces(depth1080, less_output=True)"
   ]
  },
  {
   "cell_type": "code",
   "execution_count": null,
   "id": "1e912682",
   "metadata": {},
   "outputs": [],
   "source": [
    "# init dimensions\n",
    "sNx=120\n",
    "sNy=120\n",
    "\n",
    "# probably don't want to plot, will take a long time\n",
    "blanklist_1080 = get_blanklist(depth1080, sNx, sNy, plot=False)\n",
    "print(blanklist_1080)"
   ]
  }
 ],
 "metadata": {
  "kernelspec": {
   "display_name": "Python 3 (ipykernel)",
   "language": "python",
   "name": "python3"
  },
  "language_info": {
   "codemirror_mode": {
    "name": "ipython",
    "version": 3
   },
   "file_extension": ".py",
   "mimetype": "text/x-python",
   "name": "python",
   "nbconvert_exporter": "python",
   "pygments_lexer": "ipython3",
   "version": "3.8.16"
  }
 },
 "nbformat": 4,
 "nbformat_minor": 5
}
