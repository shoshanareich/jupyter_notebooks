{
 "cells": [
  {
   "cell_type": "code",
   "execution_count": 4,
   "id": "0513b03c-3cf3-4ef0-9bc1-ab13d6bf7c08",
   "metadata": {},
   "outputs": [],
   "source": [
    "import numpy as np\n",
    "import sys\n",
    "sys.path.append('/home/shoshi/MITgcm_c68p/MITgcm/utils/python/MITgcmutils')\n",
    "\n",
    "from MITgcmutils import rdmds\n",
    "import matplotlib.pyplot as plt"
   ]
  },
  {
   "cell_type": "markdown",
   "id": "09bbaa2e-03bc-4be5-a442-62781fcb7859",
   "metadata": {},
   "source": [
    "## Create patchface functions to shift between different map views"
   ]
  },
  {
   "cell_type": "code",
   "execution_count": 2,
   "id": "589174a0-d6c0-435d-a4b0-cf440288af4a",
   "metadata": {},
   "outputs": [],
   "source": [
    "### compact --> worldmap view ###\n",
    "\n",
    "# taken from /home/atnguyen/python/read_simple_ocellc90global.py\n",
    "def patchface3D(fldin,nx,nz):\n",
    "\n",
    "    print(nz)\n",
    "    #add a new dimension in case it's only 2d field:\n",
    "    if nz == 1:\n",
    "        fldin=fldin[np.newaxis, :, :]\n",
    "\n",
    "    #defining a big face:\n",
    "    a=np.zeros((nz,4*nx,4*nx))       #(50,270,360)\n",
    "\n",
    "    #face1\n",
    "    tmp=fldin[:,0:3*nx,0:nx]        #(50,270,90)\n",
    "    a[:,0:3*nx,0:nx]=tmp\n",
    "\n",
    "    #face2\n",
    "    tmp=fldin[:,(3*nx):(6*nx),0:nx] #(50, 270,90)\n",
    "    a[:,0:3*nx,nx:2*nx]=tmp\n",
    "\n",
    "    #face3\n",
    "    tmp=fldin[:,(6*nx):(7*nx),0:nx] #(50, 90, 90)\n",
    "    tmp=np.transpose(tmp, (1,2,0))  #(90, 90, 50)\n",
    "    ##syntax to rotate ccw:\n",
    "    tmp1=list(zip(*tmp[::-1]))\n",
    "    tmp1=np.asarray(tmp1)\n",
    "    tmp1=np.transpose(tmp1,[2,0,1]) #(50, 90, 90)\n",
    "    a[:,3*nx:4*nx,0:nx]=tmp1\n",
    "\n",
    "    #face4\n",
    "    tmp=np.reshape(fldin[:,7*nx:10*nx,0:nx],[nz,nx,3*nx]) #(50,90,270)\n",
    "    tmp=np.transpose(tmp, (1,2,0))\n",
    "    print(tmp.shape)                                      #(90,270,50)\n",
    "    #syntax to rotate cw:\n",
    "    tmp1=list(zip(*tmp))[::-1]      #type is <class 'list'>\n",
    "    tmp1=np.asarray(tmp1)           #type <class 'numpy.ndarray'>, shape (270,90,50)\n",
    "    tmp1=np.transpose(tmp1,[2,0,1]) #(50,270,90)\n",
    "    a[:,0:3*nx,2*nx:3*nx]=tmp1\n",
    "\n",
    "    #face5\n",
    "    tmp=np.reshape(fldin[:,10*nx:13*nx,0:nx],[nz,nx,3*nx]) #(50,90,270)\n",
    "    tmp=np.transpose(tmp, (1,2,0))                         #(90,270,50)\n",
    "    tmp1=list(zip(*tmp))[::-1]      #type is <class 'zip'> --> <class 'list'>\n",
    "    tmp1=np.asarray(tmp1)           #type <class 'numpy.ndarray'>, shape (270,90,50)\n",
    "    tmp1=np.transpose(tmp1,[2,0,1]) #(50,270,90)\n",
    "    a[:,0:3*nx,3*nx:4*nx]=tmp1\n",
    "\n",
    "    return a\n"
   ]
  },
  {
   "cell_type": "code",
   "execution_count": 79,
   "id": "07dfe9c0-46b3-4b09-bfee-55d65d13c519",
   "metadata": {},
   "outputs": [],
   "source": [
    "# rotate faces\n",
    "# translated from /home/atnguyen/llc270/global/matlab/simple_ctd/MITprof_toolbox/sym_g_mod.m\n",
    "\n",
    "def sym_g_mod(field_in, sym_in):\n",
    "    field_out = field_in\n",
    "    for icur in range(sym_in-4):\n",
    "        field_out = np.flip(np.transpose(field_out, (0, 2, 1)), axis=2)\n",
    "\n",
    "    return field_out\n",
    "    "
   ]
  },
  {
   "cell_type": "code",
   "execution_count": 99,
   "id": "878cadd1-b2a6-464f-9fa8-40793620edbe",
   "metadata": {},
   "outputs": [],
   "source": [
    "### worldmap view --> 5 faces ###\n",
    "# translated from /home/atnguyen/matlab/atn_tools/patchface3D.m\n",
    "\n",
    "def patchface3D_wrld_to_5f(array_in):\n",
    "\n",
    "    nz, ny, nx = np.shape(array_in)\n",
    "    nx = int(nx/4)\n",
    "    faces = dict()\n",
    "    \n",
    "    # face 1\n",
    "    faces[1] = array_in[:,:3*nx,:nx]\n",
    "    \n",
    "    # face 2\n",
    "    faces[2] = array_in[:,:3*nx,nx:2*nx]\n",
    "    \n",
    "    # face 4\n",
    "    face4 = array_in[:,:3*nx,2*nx:3*nx]\n",
    "    faces[4] = sym_g_mod(face4, 5)\n",
    "    \n",
    "    # face 5\n",
    "    face5 = array_in[:,:3*nx,3*nx:4*nx]\n",
    "    faces[5] = sym_g_mod(face5, 5)\n",
    "    \n",
    "    # face 3\n",
    "    face3 = array_in[:,3*nx:4*nx,:nx]\n",
    "    faces[3] = sym_g_mod(face3, 7)\n",
    "\n",
    "    return faces\n",
    "    "
   ]
  },
  {
   "cell_type": "code",
   "execution_count": 9,
   "id": "a39e40e3-ef1b-4827-8d19-1f73042f0079",
   "metadata": {},
   "outputs": [
    {
     "data": {
      "text/plain": [
       "(50, 1170, 90)"
      ]
     },
     "execution_count": 9,
     "metadata": {},
     "output_type": "execute_result"
    }
   ],
   "source": [
    "grid_dir='/scratch/shoshi/MITgcm_c68p/llc90/run_obsfit_pk0000205956/'\n",
    "hfc90 = rdmds(grid_dir+'hFacC')#, lev=0)\n",
    "hfc90[hfc90!=0]=np.nan\n",
    "np.shape(hfc90)"
   ]
  },
  {
   "cell_type": "code",
   "execution_count": 94,
   "id": "2b576380-8837-4486-bd2f-69f40541b439",
   "metadata": {},
   "outputs": [
    {
     "name": "stdout",
     "output_type": "stream",
     "text": [
      "50\n",
      "(90, 270, 50)\n"
     ]
    },
    {
     "data": {
      "text/plain": [
       "Text(0.5, 1.0, 'worldmap view')"
      ]
     },
     "execution_count": 94,
     "metadata": {},
     "output_type": "execute_result"
    },
    {
     "data": {
      "image/png": "[encoded data removed]",
      "text/plain": [
       "<Figure size 1200x400 with 4 Axes>"
      ]
     },
     "metadata": {},
     "output_type": "display_data"
    }
   ],
   "source": [
    "nx=90\n",
    "ny=nx*13\n",
    "nz=50\n",
    "\n",
    "fldin=hfc90\n",
    "hfc_big=patchface3D(fldin,nx,nz)\n",
    "clevels = np.arange(-1, 2, 1)\n",
    "plt.figure(figsize=(12,4))\n",
    "plt.subplot(121)\n",
    "clevels = np.arange(-1, 2, 1)\n",
    "plt.contourf(hfc90[0,:,:],levels=clevels)\n",
    "plt.colorbar()\n",
    "plt.title('compact view')\n",
    "\n",
    "\n",
    "plt.subplot(122)\n",
    "plt.contourf(hfc_big[0,:,:],levels=clevels)\n",
    "plt.colorbar()\n",
    "plt.title('worldmap view')\n"
   ]
  },
  {
   "cell_type": "code",
   "execution_count": 97,
   "id": "648324c7-ee8c-41a4-9727-72cb49e6f30b",
   "metadata": {},
   "outputs": [],
   "source": [
    "hfc_big # worldmap view\n",
    "\n",
    "hfc_5f = patchface3D_wrld_to_5f(hfc_big)\n",
    "\n",
    "# for i in range(1,6):\n",
    "#     plt.figure()\n",
    "#     plt.title('5 face view')\n",
    "#     plt.contourf(hfc_5f[i][0,:,:],levels=clevels)\n",
    "#     plt.colorbar()\n",
    "\n"
   ]
  },
  {
   "cell_type": "markdown",
   "id": "ef755004-6ea6-4f26-bd81-14b57a518069",
   "metadata": {},
   "source": [
    "## data processing\n",
    "translated from /home/atnguyen/llc270/global/matlab/simple_ctd/\n",
    "\n",
    "step02:\n",
    "- xc and yc are reshaped from compact (nx, 13*nx) to worldmap (4*nx, 4*nx)\n",
    "- prof_point/nearest_swot_index is computed relative to worldmap view\n",
    "  \n",
    "step04\n",
    "- Line 43/44: xc and yc are turned from (4*nx, 4*nx) to 5-face view. Use patchface3D_wrld_to_5f. This is \"direction 3\" in matlab script patchface3D.m \n",
    "- FOR face = 1..5: Do the [X,Y]C[11,NINJ] routine\n",
    "- Line 68: (I think — convince yourself) sneakily turn each [X,Y]C[11,NINJ] field from 5-face  to compact\n",
    "- Line 69: Change each field from compact to worldmap (she has done so in her python function)\n",
    "- Line 70: Use the prof_point (which was created relative to worldmap view) to grab the index from each field, which are now properly in worldmap view."
   ]
  },
  {
   "cell_type": "code",
   "execution_count": null,
   "id": "176b5d0c-74e9-41c1-9344-69756a70a8a1",
   "metadata": {},
   "outputs": [],
   "source": []
  },
  {
   "cell_type": "code",
   "execution_count": null,
   "id": "a4ff310c-b2b0-4ccf-a194-4c4cfe52bbf6",
   "metadata": {},
   "outputs": [],
   "source": []
  }
 ],
 "metadata": {
  "kernelspec": {
   "display_name": "Python 3 (ipykernel)",
   "language": "python",
   "name": "python3"
  },
  "language_info": {
   "codemirror_mode": {
    "name": "ipython",
    "version": 3
   },
   "file_extension": ".py",
   "mimetype": "text/x-python",
   "name": "python",
   "nbconvert_exporter": "python",
   "pygments_lexer": "ipython3",
   "version": "3.8.18"
  }
 },
 "nbformat": 4,
 "nbformat_minor": 5
}
